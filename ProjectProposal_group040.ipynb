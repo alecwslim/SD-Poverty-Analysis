{
 "cells": [
  {
   "cell_type": "markdown",
   "metadata": {},
   "source": [
    "# COGS 108 - Project Proposal"
   ]
  },
  {
   "cell_type": "markdown",
   "metadata": {},
   "source": [
    "# Names\n",
    "\n",
    "- Madhav Alapati\n",
    "- Hrithik Pai\n",
    "- Harsh Patel\n",
    "- Andrew Russell\n",
    "- Alec Slim"
   ]
  },
  {
   "cell_type": "markdown",
   "metadata": {},
   "source": [
    "# Research Question"
   ]
  },
  {
   "cell_type": "markdown",
   "metadata": {},
   "source": [
    "What is the relationship between a neighborhood's proximity to San Diego's port, heavy industry, or military bases and its rates of lung disease, cancer, and other environmental illnesses?"
   ]
  },
  {
   "cell_type": "markdown",
   "metadata": {},
   "source": [
    "## Background and Prior Work"
   ]
  },
  {
   "cell_type": "markdown",
   "metadata": {},
   "source": [
    "In many ways, the Port of San Diego is the city's backbone.  Opened in 1962, it is responsible for bringing everything from Honda automobiles to passengers aboard cruise ships into the city.<a name=\"cite_ref-1\"></a>[<sup>1</sup>](#cite_note-1)  While the heavy industry and tourism enabled by the port contributed to transforming what was a small military town into America's eighth largest city within a generation<a name=\"cite_ref-2\"></a>[<sup>2</sup>](#cite_note-2), it does not come without its own drawbacks.  De Roos et. al. have shown that residential areas near industrial sites in Los Angeles, Seattle, and Detroit are all at greater risk of health complications such as lymphoma, lung disease, and other environmental diseases.<a name=\"cite_ref-3\"></a>[<sup>3</sup>](#cite_note-3)  However, they also showed that the rate of occurrence for these complications varies not only with proximity to an industrial site, but the type of goods produced at each industrial site as well.  In particular, individuals living within half a mile of industrial plants producing rubber, refining metal, or processing chemicals are over twice as likely to develop non-Hodgkin lymphoma versus individuals who do not.  In a similar vein, a 2023 report on water pollution from PFAS and other \"forever chemicals\" traced back to dumping on military bases suggests a similarly bleak picture for residents in affected areas being over twice as likely to develop kidney, testicular, or prostate cancer.<a name=\"cite_ref-4\"></a>[<sup>4</sup>](#cite_note-4)  Ultimately, reports such as these lead to the same question:  Does the Port of San Diego and its nearby industrial plants bring about similar health concerns for San Diegans?\n",
    "\n",
    "This question is a novel one because much of the discussion around environmental illness in San Diego revolves around sewage flow northward from Mexico.<a name=\"cite_ref-5\"></a>[<sup>5</sup>](#cite_note-5)  While this has been directly linked with a number of gastrointestinal complications particularly in the South San Diego Bay<a name=\"cite_ref-6\"></a>[<sup>6</sup>](#cite_note-6), this means that other environmental hazards are comparatively under-researched.  There have been several high-profile cases -- fumigation of methyl bromide pesticide affecting liver and kidney health in Barrio Logan residents starting in the 1990s<a name=\"cite_ref-7\"></a>[<sup>7</sup>](#cite_note-7), as well as diesel particulate matter causing air quality concerns in Barrio Logan and Logan Heights<a name=\"cite_ref-8\"></a>[<sup>8</sup>](#cite_note-8) -- but a comprehensive understanding of the role of the port, heavy industry, and military bases on local communities' health is largely absent.  One factor that remains constant between existing analyses is the socioeconomic status and racial makeup of affected neighborhoods.  Residents of Barrio Logan, over 80% of whom are Latino, experience some of the highest rates of poverty in San Diego.<a name=\"cite_ref-9\"></a>[<sup>9</sup>](#cite_note-9)  As a result, the lack of comprehensive data analysis on environmental illness in such neighborhoods is actively detrimental to health of its residents.\n",
    "\n",
    "1. <a name=\"cite_note-1\"></a> [^](#cite_ref-1) \"40 Facts Reflecting on 40 Years of Service.\" (11 Nov 2011). *Unified Port of San Diego*. https://web.archive.org/web/20070120122144/https://www.portofsandiego.org/sandiego/specialevents/40th/index.html\n",
    "2. <a name=\"cite_note-2\"></a> [^](#cite_ref-2) Tikkanen, A. (1 May 2024) List of the Largest US Cities by Population. *Encyclopaedia Britannica*. https://www.britannica.com/topic/Whats-the-largest-US-city-by-population\n",
    "3. <a name=\"cite_note-3\"></a> [^](#cite_ref-3) De Roos, A. J., Davis, S., Colt, J. S., Blair, A., Airola, M., Severson, R. K., Cozen, W., Cerhan, J. R., Hartge, P., Nuckols, J. R., & Ward, M. H. (2010). Residential proximity to industrial facilities and risk of non-Hodgkin lymphoma. *Environmental Research*, 110(1), 70–78. https://doi.org/10.1016/j.envres.2009.09.011\n",
    "4. <a name=\"cite_note-4\"></a> [^](#cite_ref-4) \"Per- and Polyfluoroalkyl Substances in Groundwater\" (1 September 2023). *United States Department of Defense*. https://www.acq.osd.mil/eie/eer/ecc/pfas/docs/reports/Briefing-on-PFAS-in-Groundwater.pdf\n",
    "5. <a name=\"cite_note-5\"></a> [^](#cite_ref-5) Udasin, S. (13 February 2024). San Diego County faces multifront health threat amid transboundary sewage flow from Mexico. *The Hill*. https://thehill.com/policy/energy-environment/4463937-san-diego-county-health-threat-sewage-mexico-transboundary\n",
    "6. <a name=\"cite_note-6\"></a> [^](#cite_ref-6) Rodd, S. (1 April 2024). San Diego County releases weekly reports on stomach illness in the South Bay due to cross-border sewage concerns. *KPBS*. https://www.kpbs.org/news/health/2024/04/01/san-diego-county-weekly-reports-stomach-illness-south-bay-cross-border-sewage-concerns\n",
    "7. <a name=\"cite_note-7\"></a> [^](#cite_ref-7) Corrales, J. (15 July 2020). Commentary: Barrio Logan has faced environmental racism for generations. We want justice. *The San Diego Union-Tribune*. https://www.sandiegouniontribune.com/opinion/commentary/story/2020-07-15/barrio-logan-environmental-racism-commentary\n",
    "8. <a name=\"cite_note-8\"></a> [^](#cite_ref-8) Williams, J. (12 January 2019).  Portside Environmental Justice Neighborhoods: Nomination for AB 617. *San Diego County Air Pollution Control District*. https://www.sdapcd.org/content/dam/sdapcd/documents/capp/EHC-Nomination-Portside-Neighborhoods.pdf\n",
    "9. <a name=\"cite_note-9\"></a> [^](#cite_ref-9) \"Poverty in San Diego County.\" (1 April 2023). *County of San Diego, Health and Human Service Agency*. https://www.sandiegocounty.gov/content/dam/sdc/hhsa/programs/phs/CHS/Poverty%20Brief%203%20Poverty%20and%20Health%20FINAL.pdf"
   ]
  },
  {
   "cell_type": "markdown",
   "metadata": {},
   "source": [
    "# Hypothesis\n"
   ]
  },
  {
   "cell_type": "markdown",
   "metadata": {},
   "source": [
    "We predict that there will be a strong correlation between neighborhoods' proximity to the Port of San Diego (as well as Naval Base San Diego) and rates of lung disease, cancer, and other environmental illnesses.  These rates will be connected to high-profile environmental disruptions -- such as methyl bromide fumigation mentioned above -- but will be more readily explained by less egregious yet more consistent pollutants.  We expect to find this relationship between proximity and illness strongest among neighborhoods with higher rates of poverty, such as Barrio Logan, Logan Heights, and National City.  Conversely, we also expect to find lower rates of illness in wealthier neighborhoods even if they are in close proximity to the port and naval base (such as Gaslamp Quarter and Marina)."
   ]
  },
  {
   "cell_type": "markdown",
   "metadata": {},
   "source": [
    "# Data"
   ]
  },
  {
   "cell_type": "markdown",
   "metadata": {},
   "source": [
    "1. Our ideal dataset contains rates of various illnesses (such as lung disease, heart disease, chronic kidney failure, lymphoma, melanoma, etc.) broken down by the San Diego neighborhood where each person resides.  Ideally, this data would contain 10,000 or more reported cases as collected by area hospitals, allowing trends to naturally emerge while also ensuring consistency in diagnosis, data collection, and overall data quality.  This data would be anonymized and be made available as a CSV or Excel spreadsheet by a body such as the San Diego Health and Human Services Agency or National Institutes of Health.\n",
    "2. Upon researching, a number of data sources are freely available online:\n",
    "\n",
    "- The San Diego Health and Human Services Agency publishes an annual \"morbidity dashboard\" broken down by subregional areas (i.e. neighborhoods), and in 2021 it contained 1,012,436 cases of disease as counted by inpatient and outpatient discharges:  https://public.tableau.com/app/profile/chsu/viz/Morbidity2021_16877947850910/MorbidityDashboard\n",
    "- San Diego County publishes annual health briefs, which give tabular data on a variety of conditions and are specific to wider areas (e.g. Central, East, North Central, etc.):  https://www.sandiegocounty.gov/content/dam/sdc/hhsa/programs/phs/CHS/Health%20Briefs/2021%20Health%20Briefs_Central.pdf\n",
    "- The San Diego Health and Human Services Agency also publishes Community Health Assessments, which provide detailed information on health outcomes as broken down by region:  https://www.sandiegocounty.gov/content/dam/sdc/hhsa/programs/phs/CHS/Central%20Region%20CHA%20Presentation%202023.pdf"
   ]
  },
  {
   "cell_type": "markdown",
   "metadata": {},
   "source": [
    "# Ethics & Privacy"
   ]
  },
  {
   "cell_type": "markdown",
   "metadata": {},
   "source": [
    "Because our project analyzes medical diagnosis data, it is our ethical responsibility to ensure that our data is fully anonymized and stripped of any identifying information.  While our question revolves around the neighborhoods where individuals live (a piece of information which is inherently identifying), neighborhoods are a granular enough region that properly-anonymized diagnosis data would not pose an ethical concern for our project.  In addition, our initial search for data yielded a variety of datasets originating from area hospitals.  However, seriously ill patients who are unable to access medical resources (likely due to financial constraints and lack of insurance coverage) will be left off of such datasets.  This means that our analyses may unfairly skew away from neighborhoods and communities that are traditionally underserved by medical resources, defeating the goal of our analysis.  This possibility of bias in our data means that it is our responsibility to detect and correct it during our analysis, primarily by ensuring our sample sizes are sufficiently large and our analyses are performed in a way that accounts for this bias.  Ultimately, our main privacy concern relates to anonymized medical data, while our main ethical concern relates to analyzing this data while remaining mindful of the socioeconomic biases it may contain."
   ]
  },
  {
   "cell_type": "markdown",
   "metadata": {},
   "source": [
    "# Team Expectations "
   ]
  },
  {
   "cell_type": "markdown",
   "metadata": {},
   "source": [
    "* Team members should contribute to each deadline.\n",
    "* Team members should regularly communicate in the team chat about ongoing work, challenges faced, etc.\n",
    "* Team members should commit well-written and well-documented code to the repository.\n",
    "* Team members must attend group meetings or provide a valid explanation for absence.\n",
    "* Team members should collaborate on each project section and provide clear feedback to each other.\n",
    "* Decisions affecting the team or project vision should be discussed and agreed upon by all members."
   ]
  },
  {
   "cell_type": "markdown",
   "metadata": {},
   "source": [
    "# Project Timeline Proposal"
   ]
  },
  {
   "cell_type": "markdown",
   "metadata": {},
   "source": [
    "| Meeting Date  | Meeting Time| Completed Before Meeting  | Discuss at Meeting |\n",
    "|---|---|---|---|\n",
    "| 4/24  | 8 PM | Read through prior COGS 108 projects | Completed project review form; discussed positives/negatives of both reviewed projects |\n",
    "| 5/3  |  3 PM | Background/Prior Work, Hypothesis, and Data sections of proposal completed  | Work on Ethics/Privacy, Team Expectations, and Timeline sections of proposal; finalize entire proposal |\n",
    "| 5/10 | 3 PM | Gather data from online resources; begin basic data cleaning/wrangling | Analyze data (shape/properties/etc.); begin basic EDA |\n",
    "| 5/17 | 4 PM | Finalize data wrangling; prepare for submission for Checkpoint #1 | Review and finalize Checkpoint #1; continue working on more complex EDA |\n",
    "| 5/24 | 4 PM | Wrap up EDA in preparation for Checkpoint #2 submission | Begin preparation for recording final video; start edits to prepare for final submission |\n",
    "| 5/31 | 4 PM | Begin drafting conclusion and discussion sections of project | Finalize and submit Checkpoint #2; begin script and presentation for final video |\n",
    "| 6/7 | 1 PM | Finalize script/slides for video presentation | Record and submit video presentation; submit final draft of project notebook |\n",
    "| 6/12 | 12 PM | Complete group surveys | Submit final project |"
   ]
  }
 ],
 "metadata": {
  "kernelspec": {
   "display_name": "Python 3 (ipykernel)",
   "language": "python",
   "name": "python3"
  },
  "language_info": {
   "codemirror_mode": {
    "name": "ipython",
    "version": 3
   },
   "file_extension": ".py",
   "mimetype": "text/x-python",
   "name": "python",
   "nbconvert_exporter": "python",
   "pygments_lexer": "ipython3",
   "version": "3.9.5"
  }
 },
 "nbformat": 4,
 "nbformat_minor": 2
}
