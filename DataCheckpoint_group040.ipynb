{
 "cells": [
  {
   "cell_type": "markdown",
   "metadata": {},
   "source": [
    "**If you lost points on the last checkpoint you can get them back by responding to TA/IA feedback**  \n",
    "\n",
    "Update/change the relevant sections where you lost those points, make sure you respond on GitHub Issues to your TA/IA to call their attention to the changes you made here.\n",
    "\n",
    "Please update your Timeline... no battle plan survives contact with the enemy, so make sure we understand how your plans have changed."
   ]
  },
  {
   "cell_type": "markdown",
   "metadata": {},
   "source": [
    "# COGS 108 - Data Checkpoint"
   ]
  },
  {
   "cell_type": "markdown",
   "metadata": {},
   "source": [
    "# Names\n",
    "\n",
    "- Madhav Alapati\n",
    "- Hrithik Pai\n",
    "- Harsh Patel\n",
    "- Andrew Russell\n",
    "- Alec Slim"
   ]
  },
  {
   "cell_type": "markdown",
   "metadata": {},
   "source": [
    "# Research Question"
   ]
  },
  {
   "cell_type": "markdown",
   "metadata": {},
   "source": [
    "What is the relationship between a neighborhood's proximity to San Diego's port, heavy industry, or military bases, its poverty rate, and its rates of lung disease, cancer, and other environmental illnesses?"
   ]
  },
  {
   "cell_type": "markdown",
   "metadata": {},
   "source": [
    "## Background and Prior Work"
   ]
  },
  {
   "cell_type": "markdown",
   "metadata": {},
   "source": [
    "In many ways, the Port of San Diego is the city's backbone.  Opened in 1962, it is responsible for bringing everything from Honda automobiles to passengers aboard cruise ships into the city.<a name=\"cite_ref-1\"></a>[<sup>1</sup>](#cite_note-1)  While the heavy industry and tourism enabled by the port contributed to transforming what was a small military town into America's eighth largest city within a generation<a name=\"cite_ref-2\"></a>[<sup>2</sup>](#cite_note-2), it does not come without its own drawbacks.  De Roos et. al. have shown that residential areas near industrial sites in Los Angeles, Seattle, and Detroit are all at greater risk of health complications such as lymphoma, lung disease, and other environmental diseases.<a name=\"cite_ref-3\"></a>[<sup>3</sup>](#cite_note-3)  However, they also showed that the rate of occurrence for these complications varies not only with proximity to an industrial site, but the type of goods produced at each industrial site as well.  In particular, individuals living within half a mile of industrial plants producing rubber, refining metal, or processing chemicals are over twice as likely to develop non-Hodgkin lymphoma versus individuals who do not.  In a similar vein, a 2023 report on water pollution from PFAS and other \"forever chemicals\" traced back to dumping on military bases suggests a similarly bleak picture for residents in affected areas being over twice as likely to develop kidney, testicular, or prostate cancer.<a name=\"cite_ref-4\"></a>[<sup>4</sup>](#cite_note-4)  Ultimately, reports such as these lead to the same question:  Does the Port of San Diego and its nearby industrial plants bring about similar health concerns for San Diegans?\n",
    "\n",
    "This question is a novel one because much of the discussion around environmental illness in San Diego revolves around sewage flow northward from Mexico.<a name=\"cite_ref-5\"></a>[<sup>5</sup>](#cite_note-5)  While this has been directly linked with a number of gastrointestinal complications particularly in the South San Diego Bay<a name=\"cite_ref-6\"></a>[<sup>6</sup>](#cite_note-6), this means that other environmental hazards are comparatively under-researched.  There have been several high-profile cases -- fumigation of methyl bromide pesticide affecting liver and kidney health in Barrio Logan residents starting in the 1990s<a name=\"cite_ref-7\"></a>[<sup>7</sup>](#cite_note-7), as well as diesel particulate matter causing air quality concerns in Barrio Logan and Logan Heights<a name=\"cite_ref-8\"></a>[<sup>8</sup>](#cite_note-8) -- but a comprehensive understanding of the role of the port, heavy industry, and military bases on local communities' health is largely absent.  One factor that remains constant between existing analyses is the socioeconomic status and racial makeup of affected neighborhoods.  Residents of Barrio Logan, over 80% of whom are Latino, experience some of the highest rates of poverty in San Diego.<a name=\"cite_ref-9\"></a>[<sup>9</sup>](#cite_note-9)  As a result, the lack of comprehensive data analysis on environmental illness in such neighborhoods is actively detrimental to health of its residents.\n",
    "\n",
    "1. <a name=\"cite_note-1\"></a> [^](#cite_ref-1) \"40 Facts Reflecting on 40 Years of Service.\" (11 Nov 2011). *Unified Port of San Diego*. https://web.archive.org/web/20070120122144/https://www.portofsandiego.org/sandiego/specialevents/40th/index.html\n",
    "2. <a name=\"cite_note-2\"></a> [^](#cite_ref-2) Tikkanen, A. (1 May 2024) List of the Largest US Cities by Population. *Encyclopaedia Britannica*. https://www.britannica.com/topic/Whats-the-largest-US-city-by-population\n",
    "3. <a name=\"cite_note-3\"></a> [^](#cite_ref-3) De Roos, A. J., Davis, S., Colt, J. S., Blair, A., Airola, M., Severson, R. K., Cozen, W., Cerhan, J. R., Hartge, P., Nuckols, J. R., & Ward, M. H. (2010). Residential proximity to industrial facilities and risk of non-Hodgkin lymphoma. *Environmental Research*, 110(1), 70–78. https://doi.org/10.1016/j.envres.2009.09.011\n",
    "4. <a name=\"cite_note-4\"></a> [^](#cite_ref-4) \"Per- and Polyfluoroalkyl Substances in Groundwater\" (1 September 2023). *United States Department of Defense*. https://www.acq.osd.mil/eie/eer/ecc/pfas/docs/reports/Briefing-on-PFAS-in-Groundwater.pdf\n",
    "5. <a name=\"cite_note-5\"></a> [^](#cite_ref-5) Udasin, S. (13 February 2024). San Diego County faces multifront health threat amid transboundary sewage flow from Mexico. *The Hill*. https://thehill.com/policy/energy-environment/4463937-san-diego-county-health-threat-sewage-mexico-transboundary\n",
    "6. <a name=\"cite_note-6\"></a> [^](#cite_ref-6) Rodd, S. (1 April 2024). San Diego County releases weekly reports on stomach illness in the South Bay due to cross-border sewage concerns. *KPBS*. https://www.kpbs.org/news/health/2024/04/01/san-diego-county-weekly-reports-stomach-illness-south-bay-cross-border-sewage-concerns\n",
    "7. <a name=\"cite_note-7\"></a> [^](#cite_ref-7) Corrales, J. (15 July 2020). Commentary: Barrio Logan has faced environmental racism for generations. We want justice. *The San Diego Union-Tribune*. https://www.sandiegouniontribune.com/opinion/commentary/story/2020-07-15/barrio-logan-environmental-racism-commentary\n",
    "8. <a name=\"cite_note-8\"></a> [^](#cite_ref-8) Williams, J. (12 January 2019).  Portside Environmental Justice Neighborhoods: Nomination for AB 617. *San Diego County Air Pollution Control District*. https://www.sdapcd.org/content/dam/sdapcd/documents/capp/EHC-Nomination-Portside-Neighborhoods.pdf\n",
    "9. <a name=\"cite_note-9\"></a> [^](#cite_ref-9) \"Poverty in San Diego County.\" (1 April 2023). *County of San Diego, Health and Human Service Agency*. https://www.sandiegocounty.gov/content/dam/sdc/hhsa/programs/phs/CHS/Poverty%20Brief%203%20Poverty%20and%20Health%20FINAL.pdf"
   ]
  },
  {
   "cell_type": "markdown",
   "metadata": {},
   "source": [
    "# Hypothesis\n"
   ]
  },
  {
   "cell_type": "markdown",
   "metadata": {},
   "source": [
    "We predict that there will be a strong positive correlation between neighborhoods' proximity to the Port of San Diego (as well as Naval Base San Diego) and rates of lung disease, cancer, and other environmental illnesses.  These rates will be connected to high-profile environmental disruptions -- such as methyl bromide fumigation mentioned above -- but will be more readily explained by less egregious yet more consistent pollutants.  We expect to find this positive correlation between proximity and illness strongest among neighborhoods with higher rates of poverty, such as Barrio Logan, Logan Heights, and National City.  Conversely, we also expect to find lower rates of illness in wealthier neighborhoods even if they are in close proximity to the port and naval base (such as Gaslamp Quarter and Marina)."
   ]
  },
  {
   "cell_type": "markdown",
   "metadata": {},
   "source": [
    "# Data"
   ]
  },
  {
   "cell_type": "markdown",
   "metadata": {},
   "source": [
    "## Data overview\n",
    "\n",
    "- Dataset #1:\n",
    "  - Dataset Name: \"San Diego County 2021 Non-Communicable (Chronic) Diseases\"\n",
    "  - Link to the dataset: https://data.sandiegocounty.gov/Health/2021-Non-Communicable-Chronic-Diseases/v7dt-rwpx/about_data\n",
    "  - Number of observations: 194,000\n",
    "  - Number of variables: 15\n",
    "- Dataset #2:\n",
    "  - Dataset Name: \"2016 San Diego County Demographics - Poverty Level by City\"\n",
    "  - Link to the dataset: https://data.sandiegocounty.gov/Demographics/2016-San-Diego-County-Demographics-Poverty-Level-b/m8fz-ei2b/about_data\n",
    "  - Number of observations: 18\n",
    "  - Number of variables: 8\n",
    "- Dataset #3:\n",
    "  - Dataset Name: \"LANDUSE 2023\"\n",
    "  - Link to the dataset: https://sdgis-sandag.opendata.arcgis.com/maps/7ddb4a78feda4ed2966ef5de374694f9/explore?location=32.734349%2C-116.961881%2C10.91\n",
    "  - Number of observations: 123,944\n",
    "  - Number of variables: 4\n",
    "\n",
    "**Dataset #1:**\n",
    "\n",
    "The most important variables in the San Diego County 2021 Non-Communicable (Chronic) Diseases dataset are \"Geography\" (region in San Diego), \"CONDITION\" (specific health conditions), \"OUTCOME\" (specific health outcomes, such as recovery or death), \"IndexGroup\" (demographic data), and \"Rates\" (rate of a specific condition). The rate of diseases are quantified by number per 100,000 people in that region and demographic group (e.g. race, gender, age). In order to clean up and preprocess this dataset, we have to remove missing data because many regions lack disease rates for particular demographic groups.\n",
    "\n",
    "**Dataset #2:**\n",
    "\n",
    "The most important variables in the Poverty Level by City dataset are \"Geography\" (the specific city name), \"<50% FPL\" (the percentage of residents whose household income is less than half of the federal poverty line), \"50-74% FPL\" (similarly to the previous column), and \"75-99% FPL.\"  This percentages are written relative to the federal poverty line for each household when accounting for size, meaning relative to \\\\$15,060 per year for one-person households, \\\\$20,440 for two-person, \\\\$25,820 for three-person, \\\\$31,200 for four-person, up to \\\\$52,720 for eight-person.\n",
    "\n",
    "**Dataset #3:**\n",
    "\n",
    "The third dataset is an ESRI Shapefile containing all current land-use and zoning in place for San Diego County.  Its most important variable is \"lu,\" the land use code as published on [SANDAG's website](https://www.sandag.org/-/media/SANDAG/Documents/PDF/regional-plan/sustainable-growth-and-development/land-use/land-use-codes-2022.pdf).  We will be using this dataset to determine a city's proximity to heavy industry (code 2001), marine terminals (4120), or military use land (6701).  Because the dataset's `.shp` is very large (443 MB), it is not able to be stored as part of our remote GitHub repository.  However, we will be able to extract the relevant regions' latitude and longitude in order to compute proximity to each of the cities being studied.\n",
    "\n",
    "---\n",
    "\n",
    "**Merging Datasets**:\n",
    "\n",
    "Because the Poverty Level by City dataset has no missing or invalid data, our only preprocessing step is to remove the \"City of\" prefix from each row in the \"Geography\" column.  This allows us to connect this dataset to the Non-Communicable Diseases dataset by identifying matching \"Geography\" columns and summing the \"<50% FPL,\" \"50-74% FPL,\" and \"75-99% FPL\" columns.  This will yield a merged dataset that contains health outcome data and the percentage of residents in that area living under the federal poverty line.\n",
    "\n",
    "Additionally, we can compute individual cities' latitude and longitude using [OpenStreetMap Nominatim](https://nominatim.org) via [GeoPy](https://geopy.readthedocs.io/en/stable) and store them in columns within the Disease data frame.  This will allow us to compute distances from areas of interest within the Land Use shapefile, without merging the two into a single data frame."
   ]
  },
  {
   "cell_type": "markdown",
   "metadata": {},
   "source": [
    "## San Diego County 2021 Non-Communicable (Chronic) Diseases"
   ]
  },
  {
   "cell_type": "code",
   "execution_count": 15,
   "metadata": {},
   "outputs": [
    {
     "data": {
      "text/html": [
       "<div>\n",
       "<style scoped>\n",
       "    .dataframe tbody tr th:only-of-type {\n",
       "        vertical-align: middle;\n",
       "    }\n",
       "\n",
       "    .dataframe tbody tr th {\n",
       "        vertical-align: top;\n",
       "    }\n",
       "\n",
       "    .dataframe thead th {\n",
       "        text-align: right;\n",
       "    }\n",
       "</style>\n",
       "<table border=\"1\" class=\"dataframe\">\n",
       "  <thead>\n",
       "    <tr style=\"text-align: right;\">\n",
       "      <th></th>\n",
       "      <th>Geography</th>\n",
       "      <th>ConditionGroup</th>\n",
       "      <th>CONDITION</th>\n",
       "      <th>OUTCOME</th>\n",
       "      <th>Year</th>\n",
       "      <th>GeoID</th>\n",
       "      <th>GeoName</th>\n",
       "      <th>Region</th>\n",
       "      <th>SES</th>\n",
       "      <th>District</th>\n",
       "      <th>GeoType</th>\n",
       "      <th>IndexGroup</th>\n",
       "      <th>Index</th>\n",
       "      <th>Counts</th>\n",
       "      <th>Rates</th>\n",
       "      <th>Latitude</th>\n",
       "      <th>Longitude</th>\n",
       "    </tr>\n",
       "  </thead>\n",
       "  <tbody>\n",
       "    <tr>\n",
       "      <th>0</th>\n",
       "      <td>Chula Vista</td>\n",
       "      <td>Non-Communicable</td>\n",
       "      <td>Acute Myocardial Infarction</td>\n",
       "      <td>Death</td>\n",
       "      <td>2021</td>\n",
       "      <td>21</td>\n",
       "      <td>CHULA VISTA</td>\n",
       "      <td>SOUTH</td>\n",
       "      <td>54876.0</td>\n",
       "      <td>Supervisorial District 1</td>\n",
       "      <td>SRA</td>\n",
       "      <td>Total</td>\n",
       "      <td>Total</td>\n",
       "      <td>34.0</td>\n",
       "      <td>27.9</td>\n",
       "      <td>33.202128</td>\n",
       "      <td>-117.242479</td>\n",
       "    </tr>\n",
       "    <tr>\n",
       "      <th>1</th>\n",
       "      <td>Chula Vista</td>\n",
       "      <td>Non-Communicable</td>\n",
       "      <td>Acute Myocardial Infarction</td>\n",
       "      <td>Death</td>\n",
       "      <td>2021</td>\n",
       "      <td>21</td>\n",
       "      <td>CHULA VISTA</td>\n",
       "      <td>SOUTH</td>\n",
       "      <td>54876.0</td>\n",
       "      <td>Supervisorial District 1</td>\n",
       "      <td>SRA</td>\n",
       "      <td>Sex</td>\n",
       "      <td>Total_Male</td>\n",
       "      <td>20.0</td>\n",
       "      <td>32.4</td>\n",
       "      <td>33.202128</td>\n",
       "      <td>-117.242479</td>\n",
       "    </tr>\n",
       "    <tr>\n",
       "      <th>2</th>\n",
       "      <td>Chula Vista</td>\n",
       "      <td>Non-Communicable</td>\n",
       "      <td>Acute Myocardial Infarction</td>\n",
       "      <td>Death</td>\n",
       "      <td>2021</td>\n",
       "      <td>21</td>\n",
       "      <td>CHULA VISTA</td>\n",
       "      <td>SOUTH</td>\n",
       "      <td>54876.0</td>\n",
       "      <td>Supervisorial District 1</td>\n",
       "      <td>SRA</td>\n",
       "      <td>Sex</td>\n",
       "      <td>Total_Female</td>\n",
       "      <td>14.0</td>\n",
       "      <td>23.5</td>\n",
       "      <td>33.202128</td>\n",
       "      <td>-117.242479</td>\n",
       "    </tr>\n",
       "    <tr>\n",
       "      <th>3</th>\n",
       "      <td>Chula Vista</td>\n",
       "      <td>Non-Communicable</td>\n",
       "      <td>Acute Myocardial Infarction</td>\n",
       "      <td>Death</td>\n",
       "      <td>2021</td>\n",
       "      <td>21</td>\n",
       "      <td>CHULA VISTA</td>\n",
       "      <td>SOUTH</td>\n",
       "      <td>54876.0</td>\n",
       "      <td>Supervisorial District 1</td>\n",
       "      <td>SRA</td>\n",
       "      <td>Race/Ethnicity</td>\n",
       "      <td>Hispanic_Total</td>\n",
       "      <td>14.0</td>\n",
       "      <td>17.7</td>\n",
       "      <td>33.202128</td>\n",
       "      <td>-117.242479</td>\n",
       "    </tr>\n",
       "    <tr>\n",
       "      <th>4</th>\n",
       "      <td>Chula Vista</td>\n",
       "      <td>Non-Communicable</td>\n",
       "      <td>Acute Myocardial Infarction</td>\n",
       "      <td>Death</td>\n",
       "      <td>2021</td>\n",
       "      <td>21</td>\n",
       "      <td>CHULA VISTA</td>\n",
       "      <td>SOUTH</td>\n",
       "      <td>54876.0</td>\n",
       "      <td>Supervisorial District 1</td>\n",
       "      <td>SRA</td>\n",
       "      <td>Race/Ethnicity</td>\n",
       "      <td>White_Total</td>\n",
       "      <td>12.0</td>\n",
       "      <td>51.6</td>\n",
       "      <td>33.202128</td>\n",
       "      <td>-117.242479</td>\n",
       "    </tr>\n",
       "  </tbody>\n",
       "</table>\n",
       "</div>"
      ],
      "text/plain": [
       "     Geography    ConditionGroup                    CONDITION OUTCOME  Year  \\\n",
       "0  Chula Vista  Non-Communicable  Acute Myocardial Infarction   Death  2021   \n",
       "1  Chula Vista  Non-Communicable  Acute Myocardial Infarction   Death  2021   \n",
       "2  Chula Vista  Non-Communicable  Acute Myocardial Infarction   Death  2021   \n",
       "3  Chula Vista  Non-Communicable  Acute Myocardial Infarction   Death  2021   \n",
       "4  Chula Vista  Non-Communicable  Acute Myocardial Infarction   Death  2021   \n",
       "\n",
       "   GeoID      GeoName Region      SES                  District GeoType  \\\n",
       "0     21  CHULA VISTA  SOUTH  54876.0  Supervisorial District 1     SRA   \n",
       "1     21  CHULA VISTA  SOUTH  54876.0  Supervisorial District 1     SRA   \n",
       "2     21  CHULA VISTA  SOUTH  54876.0  Supervisorial District 1     SRA   \n",
       "3     21  CHULA VISTA  SOUTH  54876.0  Supervisorial District 1     SRA   \n",
       "4     21  CHULA VISTA  SOUTH  54876.0  Supervisorial District 1     SRA   \n",
       "\n",
       "       IndexGroup           Index  Counts  Rates   Latitude   Longitude  \n",
       "0           Total           Total    34.0   27.9  33.202128 -117.242479  \n",
       "1             Sex      Total_Male    20.0   32.4  33.202128 -117.242479  \n",
       "2             Sex    Total_Female    14.0   23.5  33.202128 -117.242479  \n",
       "3  Race/Ethnicity  Hispanic_Total    14.0   17.7  33.202128 -117.242479  \n",
       "4  Race/Ethnicity     White_Total    12.0   51.6  33.202128 -117.242479  "
      ]
     },
     "execution_count": 15,
     "metadata": {},
     "output_type": "execute_result"
    }
   ],
   "source": [
    "import pandas as pd\n",
    "import numpy as np\n",
    "import geopandas as gpd\n",
    "from geopy.geocoders import Nominatim\n",
    "\n",
    "# Read CSV\n",
    "df_disease_raw = pd.read_csv('./datasets/2021_Non-Communicable__Chronic__Diseases_20240513.csv')\n",
    "df_disease = df_disease_raw.dropna().reset_index(drop=True)\n",
    "\n",
    "# Compute latitude and longitude using Nominatim\n",
    "geolocator = Nominatim(user_agent=\"ucsd_cogs108\")\n",
    "\n",
    "tried_cities = {}\n",
    "lat_long = {}\n",
    "for city in df_disease['Geography'].values:\n",
    "    if city in tried_cities or city in lat_long:\n",
    "        continue\n",
    "        \n",
    "    tried_cities[city] = True\n",
    "    location = geolocator.geocode(city + ', California, USA')\n",
    "    if location is None:\n",
    "        continue\n",
    "    \n",
    "    lat_long[city] = (location.latitude, location.longitude)\n",
    "\n",
    "# Add lat/long as columns to data\n",
    "df_disease['Latitude'] = df_disease['Geography'].apply(lambda x: lat_long[city][0] if city in lat_long else np.nan)\n",
    "df_disease['Longitude'] = df_disease['Geography'].apply(lambda x: lat_long[city][1] if city in lat_long else np.nan)\n",
    "\n",
    "df_disease.head()"
   ]
  },
  {
   "cell_type": "markdown",
   "metadata": {},
   "source": [
    "## 2016 San Diego County Demographics - Poverty Level by City"
   ]
  },
  {
   "cell_type": "code",
   "execution_count": 17,
   "metadata": {
    "scrolled": true
   },
   "outputs": [
    {
     "data": {
      "text/html": [
       "<div>\n",
       "<style scoped>\n",
       "    .dataframe tbody tr th:only-of-type {\n",
       "        vertical-align: middle;\n",
       "    }\n",
       "\n",
       "    .dataframe tbody tr th {\n",
       "        vertical-align: top;\n",
       "    }\n",
       "\n",
       "    .dataframe thead th {\n",
       "        text-align: right;\n",
       "    }\n",
       "</style>\n",
       "<table border=\"1\" class=\"dataframe\">\n",
       "  <thead>\n",
       "    <tr style=\"text-align: right;\">\n",
       "      <th></th>\n",
       "      <th>Geography</th>\n",
       "      <th>ConditionGroup</th>\n",
       "      <th>CONDITION</th>\n",
       "      <th>OUTCOME</th>\n",
       "      <th>Year</th>\n",
       "      <th>GeoID</th>\n",
       "      <th>GeoName</th>\n",
       "      <th>Region</th>\n",
       "      <th>SES</th>\n",
       "      <th>District</th>\n",
       "      <th>GeoType</th>\n",
       "      <th>IndexGroup</th>\n",
       "      <th>Index</th>\n",
       "      <th>Counts</th>\n",
       "      <th>Rates</th>\n",
       "      <th>Latitude</th>\n",
       "      <th>Longitude</th>\n",
       "      <th>PovertyRate</th>\n",
       "    </tr>\n",
       "  </thead>\n",
       "  <tbody>\n",
       "    <tr>\n",
       "      <th>0</th>\n",
       "      <td>Chula Vista</td>\n",
       "      <td>Non-Communicable</td>\n",
       "      <td>Acute Myocardial Infarction</td>\n",
       "      <td>Death</td>\n",
       "      <td>2021</td>\n",
       "      <td>21</td>\n",
       "      <td>CHULA VISTA</td>\n",
       "      <td>SOUTH</td>\n",
       "      <td>54876.0</td>\n",
       "      <td>Supervisorial District 1</td>\n",
       "      <td>SRA</td>\n",
       "      <td>Total</td>\n",
       "      <td>Total</td>\n",
       "      <td>34.0</td>\n",
       "      <td>27.9</td>\n",
       "      <td>33.202128</td>\n",
       "      <td>-117.242479</td>\n",
       "      <td>0.123</td>\n",
       "    </tr>\n",
       "    <tr>\n",
       "      <th>1</th>\n",
       "      <td>Chula Vista</td>\n",
       "      <td>Non-Communicable</td>\n",
       "      <td>Acute Myocardial Infarction</td>\n",
       "      <td>Death</td>\n",
       "      <td>2021</td>\n",
       "      <td>21</td>\n",
       "      <td>CHULA VISTA</td>\n",
       "      <td>SOUTH</td>\n",
       "      <td>54876.0</td>\n",
       "      <td>Supervisorial District 1</td>\n",
       "      <td>SRA</td>\n",
       "      <td>Sex</td>\n",
       "      <td>Total_Male</td>\n",
       "      <td>20.0</td>\n",
       "      <td>32.4</td>\n",
       "      <td>33.202128</td>\n",
       "      <td>-117.242479</td>\n",
       "      <td>0.123</td>\n",
       "    </tr>\n",
       "    <tr>\n",
       "      <th>2</th>\n",
       "      <td>Chula Vista</td>\n",
       "      <td>Non-Communicable</td>\n",
       "      <td>Acute Myocardial Infarction</td>\n",
       "      <td>Death</td>\n",
       "      <td>2021</td>\n",
       "      <td>21</td>\n",
       "      <td>CHULA VISTA</td>\n",
       "      <td>SOUTH</td>\n",
       "      <td>54876.0</td>\n",
       "      <td>Supervisorial District 1</td>\n",
       "      <td>SRA</td>\n",
       "      <td>Sex</td>\n",
       "      <td>Total_Female</td>\n",
       "      <td>14.0</td>\n",
       "      <td>23.5</td>\n",
       "      <td>33.202128</td>\n",
       "      <td>-117.242479</td>\n",
       "      <td>0.123</td>\n",
       "    </tr>\n",
       "    <tr>\n",
       "      <th>3</th>\n",
       "      <td>Chula Vista</td>\n",
       "      <td>Non-Communicable</td>\n",
       "      <td>Acute Myocardial Infarction</td>\n",
       "      <td>Death</td>\n",
       "      <td>2021</td>\n",
       "      <td>21</td>\n",
       "      <td>CHULA VISTA</td>\n",
       "      <td>SOUTH</td>\n",
       "      <td>54876.0</td>\n",
       "      <td>Supervisorial District 1</td>\n",
       "      <td>SRA</td>\n",
       "      <td>Race/Ethnicity</td>\n",
       "      <td>Hispanic_Total</td>\n",
       "      <td>14.0</td>\n",
       "      <td>17.7</td>\n",
       "      <td>33.202128</td>\n",
       "      <td>-117.242479</td>\n",
       "      <td>0.123</td>\n",
       "    </tr>\n",
       "    <tr>\n",
       "      <th>4</th>\n",
       "      <td>Chula Vista</td>\n",
       "      <td>Non-Communicable</td>\n",
       "      <td>Acute Myocardial Infarction</td>\n",
       "      <td>Death</td>\n",
       "      <td>2021</td>\n",
       "      <td>21</td>\n",
       "      <td>CHULA VISTA</td>\n",
       "      <td>SOUTH</td>\n",
       "      <td>54876.0</td>\n",
       "      <td>Supervisorial District 1</td>\n",
       "      <td>SRA</td>\n",
       "      <td>Race/Ethnicity</td>\n",
       "      <td>White_Total</td>\n",
       "      <td>12.0</td>\n",
       "      <td>51.6</td>\n",
       "      <td>33.202128</td>\n",
       "      <td>-117.242479</td>\n",
       "      <td>0.123</td>\n",
       "    </tr>\n",
       "  </tbody>\n",
       "</table>\n",
       "</div>"
      ],
      "text/plain": [
       "     Geography    ConditionGroup                    CONDITION OUTCOME  Year  \\\n",
       "0  Chula Vista  Non-Communicable  Acute Myocardial Infarction   Death  2021   \n",
       "1  Chula Vista  Non-Communicable  Acute Myocardial Infarction   Death  2021   \n",
       "2  Chula Vista  Non-Communicable  Acute Myocardial Infarction   Death  2021   \n",
       "3  Chula Vista  Non-Communicable  Acute Myocardial Infarction   Death  2021   \n",
       "4  Chula Vista  Non-Communicable  Acute Myocardial Infarction   Death  2021   \n",
       "\n",
       "   GeoID      GeoName Region      SES                  District GeoType  \\\n",
       "0     21  CHULA VISTA  SOUTH  54876.0  Supervisorial District 1     SRA   \n",
       "1     21  CHULA VISTA  SOUTH  54876.0  Supervisorial District 1     SRA   \n",
       "2     21  CHULA VISTA  SOUTH  54876.0  Supervisorial District 1     SRA   \n",
       "3     21  CHULA VISTA  SOUTH  54876.0  Supervisorial District 1     SRA   \n",
       "4     21  CHULA VISTA  SOUTH  54876.0  Supervisorial District 1     SRA   \n",
       "\n",
       "       IndexGroup           Index  Counts  Rates   Latitude   Longitude  \\\n",
       "0           Total           Total    34.0   27.9  33.202128 -117.242479   \n",
       "1             Sex      Total_Male    20.0   32.4  33.202128 -117.242479   \n",
       "2             Sex    Total_Female    14.0   23.5  33.202128 -117.242479   \n",
       "3  Race/Ethnicity  Hispanic_Total    14.0   17.7  33.202128 -117.242479   \n",
       "4  Race/Ethnicity     White_Total    12.0   51.6  33.202128 -117.242479   \n",
       "\n",
       "   PovertyRate  \n",
       "0        0.123  \n",
       "1        0.123  \n",
       "2        0.123  \n",
       "3        0.123  \n",
       "4        0.123  "
      ]
     },
     "execution_count": 17,
     "metadata": {},
     "output_type": "execute_result"
    }
   ],
   "source": [
    "df_poverty = pd.read_csv('./datasets/2016_San_Diego_County_Demographics_-_Poverty_Level_by_City_20240516.csv')\n",
    "# Remove \"City of\" prefix\n",
    "df_poverty['Geography'] = df_poverty['Geography'].str.replace('City of ', '')\n",
    "# Compute total poverty rate statistic\n",
    "df_poverty['PovertyRate'] = df_poverty['<50% FPL'] + df_poverty['50-74% FPL'] + df_poverty['75-99% FPL']\n",
    "\n",
    "# Merge with df_disease dataset\n",
    "df_disease['PovertyRate'] = 0\n",
    "rates = {}\n",
    "for index, row in df_poverty.iterrows():\n",
    "    rates[row['Geography']] = row['PovertyRate']\n",
    "\n",
    "df_disease['PovertyRate'] = df_disease.apply(\n",
    "    lambda x: rates[x['Geography']] if x['Geography'] in rates else np.nan,\n",
    "    axis=1\n",
    ")\n",
    "df_disease = df_disease.dropna()\n",
    "\n",
    "df_disease.head()"
   ]
  },
  {
   "cell_type": "markdown",
   "metadata": {},
   "source": [
    "## LANDUSE 2023"
   ]
  },
  {
   "cell_type": "code",
   "execution_count": 3,
   "metadata": {},
   "outputs": [
    {
     "data": {
      "text/plain": [
       "<AxesSubplot:>"
      ]
     },
     "execution_count": 3,
     "metadata": {},
     "output_type": "execute_result"
    },
    {
     "data": {
      "image/png": "[encoded data removed]",
      "text/plain": [
       "<Figure size 432x288 with 1 Axes>"
      ]
     },
     "metadata": {
      "needs_background": "light"
     },
     "output_type": "display_data"
    }
   ],
   "source": [
    "gdf_landuse = gpd.read_file('./datasets/landuse/LANDUSE_CURRENT.shp')\n",
    "\n",
    "%matplotlib inline\n",
    "gdf_landuse.plot()"
   ]
  },
  {
   "cell_type": "markdown",
   "metadata": {},
   "source": [
    "# Ethics & Privacy"
   ]
  },
  {
   "cell_type": "markdown",
   "metadata": {},
   "source": [
    "Because our project analyzes medical diagnosis data, it is our ethical responsibility to ensure that our data is fully anonymized and stripped of any identifying information.  While our question revolves around the neighborhoods where individuals live (a piece of information which is inherently identifying), neighborhoods are a granular enough region that properly-anonymized diagnosis data would not pose an ethical concern for our project.  In addition, our initial search for data yielded a variety of datasets originating from area hospitals.  However, seriously ill patients who are unable to access medical resources (likely due to financial constraints and lack of insurance coverage) will be left off of such datasets.  This means that our analyses may unfairly skew away from neighborhoods and communities that are traditionally underserved by medical resources, defeating the goal of our analysis.  This possibility of bias in our data means that it is our responsibility to detect and correct it during our analysis, primarily by ensuring our sample sizes are sufficiently large and our analyses are performed in a way that accounts for this bias.  Ultimately, our main privacy concern relates to anonymized medical data, while our main ethical concern relates to analyzing this data while remaining mindful of the socioeconomic biases it may contain."
   ]
  },
  {
   "cell_type": "markdown",
   "metadata": {},
   "source": [
    "# Team Expectations "
   ]
  },
  {
   "cell_type": "markdown",
   "metadata": {},
   "source": [
    "* Team members should contribute to each deadline.\n",
    "* Team members should regularly communicate in the team chat about ongoing work, challenges faced, etc.\n",
    "* Team members should commit well-written and well-documented code to the repository.\n",
    "* Team members must attend group meetings or provide a valid explanation for absence.\n",
    "* Team members should collaborate on each project section and provide clear feedback to each other.\n",
    "* Decisions affecting the team or project vision should be discussed and agreed upon by all members."
   ]
  },
  {
   "cell_type": "markdown",
   "metadata": {},
   "source": [
    "# Project Timeline Proposal"
   ]
  },
  {
   "cell_type": "markdown",
   "metadata": {},
   "source": [
    "| Meeting Date  | Meeting Time| Completed Before Meeting  | Discuss at Meeting |\n",
    "|---|---|---|---|\n",
    "| 4/24  | 8 PM | Read through prior COGS 108 projects | Completed project review form; discussed positives/negatives of both reviewed projects |\n",
    "| 5/3  |  3 PM | Background/Prior Work, Hypothesis, and Data sections of proposal completed  | Work on Ethics/Privacy, Team Expectations, and Timeline sections of proposal; finalize entire proposal |\n",
    "| 5/12 | 12 PM | Gather data from online resources; begin basic data cleaning/wrangling | Analyze data (shape/properties/etc.); begin basic EDA |\n",
    "| 5/19 | 3 PM | Finalize data wrangling; prepare for submission for Checkpoint #1 | Review and finalize Checkpoint #1; continue working on more complex EDA |\n",
    "| 5/24 | 3 PM | Wrap up EDA in preparation for Checkpoint #2 submission | Begin preparation for recording final video; start edits to prepare for final submission |\n",
    "| 5/30 | 5 PM | Begin drafting conclusion and discussion sections of project | Finalize and submit Checkpoint #2; begin script and presentation for final video |\n",
    "| 6/7 | 1 PM | Finalize script/slides for video presentation | Record and submit video presentation; submit final draft of project notebook |\n",
    "| 6/12 | 12 PM | Complete group surveys | Submit final project "
   ]
  }
 ],
 "metadata": {
  "kernelspec": {
   "display_name": "Python 3 (ipykernel)",
   "language": "python",
   "name": "python3"
  },
  "language_info": {
   "codemirror_mode": {
    "name": "ipython",
    "version": 3
   },
   "file_extension": ".py",
   "mimetype": "text/x-python",
   "name": "python",
   "nbconvert_exporter": "python",
   "pygments_lexer": "ipython3",
   "version": "3.9.5"
  }
 },
 "nbformat": 4,
 "nbformat_minor": 2
}
